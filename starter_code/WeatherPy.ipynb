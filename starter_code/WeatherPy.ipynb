{
 "cells": [
  {
   "cell_type": "markdown",
   "metadata": {},
   "source": [
    "# WeatherPy\n",
    "----\n",
    "\n",
    "#### Note\n",
    "* Instructions have been included for each segment. You do not have to follow them exactly, but they are included to help you think through the steps."
   ]
  },
  {
   "cell_type": "code",
   "execution_count": 1,
   "metadata": {
    "scrolled": true
   },
   "outputs": [],
   "source": [
    "# Dependencies and Setup\n",
    "import matplotlib.pyplot as plt\n",
    "import pandas as pd\n",
    "import numpy as np\n",
    "import requests\n",
    "import time\n",
    "from scipy.stats import linregress\n",
    "\n",
    "import math\n",
    "from datetime import date\n",
    "\n",
    "# Import API key\n",
    "from api_keys import weather_api_key\n",
    "\n",
    "# Incorporated citipy to determine city based on latitude and longitude\n",
    "from citipy import citipy\n",
    "\n",
    "# Output File (CSV)\n",
    "output_data_file = '../output_data/cities.csv'\n",
    "\n",
    "# Range of latitudes and longitudes\n",
    "lat_range = (-90, 90)\n",
    "lng_range = (-180, 180)"
   ]
  },
  {
   "cell_type": "markdown",
   "metadata": {},
   "source": [
    "## Generate Cities List"
   ]
  },
  {
   "cell_type": "code",
   "execution_count": 2,
   "metadata": {
    "scrolled": true
   },
   "outputs": [
    {
     "data": {
      "text/plain": [
       "585"
      ]
     },
     "execution_count": 2,
     "metadata": {},
     "output_type": "execute_result"
    }
   ],
   "source": [
    "# List for holding lat_lngs and cities\n",
    "lat_lngs = []\n",
    "cities = []\n",
    "\n",
    "# Create a set of random lat and lng combinations\n",
    "lats = np.random.uniform(lat_range[0], lat_range[1], size=1500)\n",
    "lngs = np.random.uniform(lng_range[0], lng_range[1], size=1500)\n",
    "lat_lngs = zip(lats, lngs)\n",
    "\n",
    "# Identify nearest city for each lat, lng combination\n",
    "for lat_lng in lat_lngs:\n",
    "    city = citipy.nearest_city(lat_lng[0], lat_lng[1]).city_name\n",
    "    \n",
    "    # If the city is unique, then add it to a our cities list\n",
    "    if city not in cities:\n",
    "        cities.append(city)\n",
    "\n",
    "# Print the city count to confirm sufficient count\n",
    "len(cities)"
   ]
  },
  {
   "cell_type": "markdown",
   "metadata": {},
   "source": [
    "### Perform API Calls\n",
    "* Perform a weather check on each city using a series of successive API calls.\n",
    "* Include a print log of each city as it'sbeing processed (with the city number and city name).\n"
   ]
  },
  {
   "cell_type": "code",
   "execution_count": null,
   "metadata": {
    "scrolled": true
   },
   "outputs": [],
   "source": [
    "url = 'http://api.openweathermap.org/data/2.5/weather?q='\n",
    "\n",
    "citySets = np.array_split(cities, math.ceil(len(cities)/40))\n",
    "cityData = []\n",
    "sCount = 0\n",
    "errCount = 0\n",
    "\n",
    "print('Beginning Data Retrieval\\n-----------------------------')\n",
    "\n",
    "for citySet in citySets:\n",
    "    rCount = 0\n",
    "    sCount = sCount + 1\n",
    "    \n",
    "    for city in citySet:\n",
    "        rCount = rCount + 1\n",
    "        try:\n",
    "            print(f'Processing Reccord {rCount} of Set {sCount} | {city}')\n",
    "            response = requests.get(f'{url}{city}&appid={weather_api_key}')\n",
    "            response.raise_for_status()\n",
    "            \n",
    "        except requests.HTTPError as exception:\n",
    "            errCount = errCount + 1\n",
    "            print(f'City, {city}, NOT found. Skipping...')\n",
    "            continue\n",
    "        \n",
    "        cityData.append(response.json())\n",
    "\n",
    "print(f'-----------------------------\\nData Retrieval Complete.\\nFound {len(cityData)} Records from {len(cities)} cities.\\n{errCount} cities not found')"
   ]
  },
  {
   "cell_type": "code",
   "execution_count": null,
   "metadata": {},
   "outputs": [],
   "source": []
  },
  {
   "cell_type": "markdown",
   "metadata": {},
   "source": [
    "### Convert Raw Data to DataFrame\n",
    "* Export the city data into a .csv.\n",
    "* Display the DataFrame"
   ]
  },
  {
   "cell_type": "code",
   "execution_count": null,
   "metadata": {},
   "outputs": [],
   "source": [
    "cityData_df = pd.DataFrame(columns = ['City', 'Lat', 'Lng', 'Max Temp', 'Humidity', 'Cloudiness', 'Wind Speed', 'Country', 'Date'])\n",
    "dfCount = 0\n",
    "for data in cityData:\n",
    "    dfCount = dfCount + 1\n",
    "    curCityInfo = {\n",
    "        \"City\" : data['name'],\n",
    "        \"Lat\" : data['coord']['lat'],\n",
    "        \"Lng\" : data['coord']['lon'],\n",
    "        \"Max Temp\" : round(data['main']['temp_max'], 2),\n",
    "        \"Humidity\" : data['main']['humidity'],\n",
    "        \"Cloudiness\" : data['clouds']['all'],\n",
    "        \"Wind Speed\" : data['wind']['speed'],\n",
    "        \"Country\" : data['sys']['country'],\n",
    "        \"Date\" : data['dt']\n",
    "    }\n",
    "    \n",
    "    cityData_df = cityData_df.append(curCityInfo, ignore_index = True)\n",
    "cityData_df = cityData_df.rename_axis('City_ID')\n",
    "cityData_df.head()"
   ]
  },
  {
   "cell_type": "code",
   "execution_count": null,
   "metadata": {},
   "outputs": [],
   "source": [
    "cityData_csv = cityData_df.to_csv(output_data_file, index_label = 'City_ID')"
   ]
  },
  {
   "cell_type": "markdown",
   "metadata": {},
   "source": [
    "## Inspect the data and remove the cities where the humidity > 100%.\n",
    "----\n",
    "Skip this step if there are no cities that have humidity > 100%. "
   ]
  },
  {
   "cell_type": "code",
   "execution_count": null,
   "metadata": {},
   "outputs": [],
   "source": [
    "cityData_df.loc[cityData_df['Humidity'] > 100]"
   ]
  },
  {
   "cell_type": "code",
   "execution_count": null,
   "metadata": {},
   "outputs": [],
   "source": [
    "#  Get the indices of cities that have humidity over 100%.\n"
   ]
  },
  {
   "cell_type": "code",
   "execution_count": null,
   "metadata": {},
   "outputs": [],
   "source": [
    "# Make a new DataFrame equal to the city data to drop all humidity outliers by index.\n",
    "# Passing \"inplace=False\" will make a copy of the city_data DataFrame, which we call \"clean_city_data\".\n"
   ]
  },
  {
   "cell_type": "code",
   "execution_count": null,
   "metadata": {},
   "outputs": [],
   "source": [
    "\n"
   ]
  },
  {
   "cell_type": "markdown",
   "metadata": {},
   "source": [
    "## Plotting the Data\n",
    "* Use proper labeling of the plots using plot titles (including date of analysis) and axes labels.\n",
    "* Save the plotted figures as .pngs."
   ]
  },
  {
   "cell_type": "markdown",
   "metadata": {},
   "source": [
    "## Latitude vs. Temperature Plot"
   ]
  },
  {
   "cell_type": "code",
   "execution_count": null,
   "metadata": {
    "scrolled": true
   },
   "outputs": [],
   "source": [
    "plt.figure(1)\n",
    "plt.scatter(cityData_df['Lat'], cityData_df['Max Temp'])\n",
    "plt.title(f'Latitude vs. Temperature ({date.today().strftime(\"%m/%d/%Y\")})')\n",
    "plt.xlabel('Latitude')\n",
    "plt.ylabel('Max Temp')\n",
    "plt.show()"
   ]
  },
  {
   "cell_type": "markdown",
   "metadata": {},
   "source": [
    "## Latitude vs. Humidity Plot"
   ]
  },
  {
   "cell_type": "code",
   "execution_count": null,
   "metadata": {},
   "outputs": [],
   "source": [
    "plt.figure(2)\n",
    "plt.scatter(cityData_df['Lat'], cityData_df['Humidity'])\n",
    "plt.title(f'Latitude vs. Humidity ({date.today().strftime(\"%m/%d/%Y\")})')\n",
    "plt.xlabel('Latitude')\n",
    "plt.ylabel('Humidity')\n",
    "plt.show()"
   ]
  },
  {
   "cell_type": "markdown",
   "metadata": {},
   "source": [
    "## Latitude vs. Cloudiness Plot"
   ]
  },
  {
   "cell_type": "code",
   "execution_count": null,
   "metadata": {},
   "outputs": [],
   "source": [
    "plt.figure(3)\n",
    "plt.scatter(cityData_df['Lat'], cityData_df['Cloudiness'])\n",
    "plt.title(f'Latitude vs. Cloudiness ({date.today().strftime(\"%m/%d/%Y\")})')\n",
    "plt.xlabel('Latitude')\n",
    "plt.ylabel('Cloudiness')\n",
    "plt.show()"
   ]
  },
  {
   "cell_type": "markdown",
   "metadata": {},
   "source": [
    "## Latitude vs. Wind Speed Plot"
   ]
  },
  {
   "cell_type": "code",
   "execution_count": null,
   "metadata": {},
   "outputs": [],
   "source": [
    "plt.figure(4)\n",
    "plt.scatter(cityData_df['Lat'], cityData_df['Wind Speed'])\n",
    "plt.title(f'Latitude vs. Wind Speed ({date.today().strftime(\"%m/%d/%Y\")})')\n",
    "plt.xlabel('Latitude')\n",
    "plt.ylabel('Wind Speed')\n",
    "plt.show()"
   ]
  },
  {
   "cell_type": "markdown",
   "metadata": {},
   "source": [
    "## Linear Regression"
   ]
  },
  {
   "cell_type": "markdown",
   "metadata": {},
   "source": [
    "####  Northern Hemisphere - Max Temp vs. Latitude Linear Regression"
   ]
  },
  {
   "cell_type": "code",
   "execution_count": null,
   "metadata": {},
   "outputs": [],
   "source": [
    "f1x_values = cityData_df.loc[cityData_df['Lat'] >= 0]['Lat']\n",
    "f1y_values = cityData_df.loc[cityData_df['Lat'] >= 0]['Max Temp']\n",
    "(f1slope, f1intercept, f1rvalue, f1pvalue, f1stderr) = linregress(f1x_values, f1y_values)\n",
    "f1regress_values = f1x_values * f1slope + f1intercept\n",
    "f1line_eq = \"y = \" + str(round(f1slope,2)) + \"x + \" + str(round(f1intercept,2))\n",
    "plt.scatter(f1x_values,f1y_values)\n",
    "plt.plot(f1x_values,f1regress_values,\"r-\")\n",
    "plt.annotate(f1line_eq,(0,250),fontsize=15,color=\"red\")\n",
    "plt.title(f'Northern Hemisphere Latitude vs. Temperature ({date.today().strftime(\"%m/%d/%Y\")})')\n",
    "plt.xlabel('Northern Hemisphere Latitude')\n",
    "plt.ylabel('Max Temp')\n",
    "print(f\"The r-squared is: {f1rvalue**2}\")\n",
    "plt.show()"
   ]
  },
  {
   "cell_type": "markdown",
   "metadata": {},
   "source": [
    "####  Southern Hemisphere - Max Temp vs. Latitude Linear Regression"
   ]
  },
  {
   "cell_type": "code",
   "execution_count": null,
   "metadata": {},
   "outputs": [],
   "source": [
    "f1ax_values = cityData_df.loc[cityData_df['Lat'] < 0]['Lat']\n",
    "f1ay_values = cityData_df.loc[cityData_df['Lat'] < 0]['Max Temp']\n",
    "(f1aslope, f1aintercept, f1arvalue, f1apvalue, f1astderr) = linregress(f1ax_values, f1ay_values)\n",
    "f1aregress_values = f1ax_values * f1aslope + f1aintercept\n",
    "f1aline_eq = \"y = \" + str(round(f1aslope,2)) + \"x + \" + str(round(f1aintercept,2))\n",
    "plt.scatter(f1ax_values,f1ay_values)\n",
    "plt.plot(f1ax_values,f1aregress_values,\"r-\")\n",
    "plt.annotate(f1aline_eq,(-55,305),fontsize=15,color=\"red\")\n",
    "plt.title(f'Southern Hemisphere Latitude vs. Temperature ({date.today().strftime(\"%m/%d/%Y\")})')\n",
    "plt.xlabel('Southern Hemisphere Latitude')\n",
    "plt.ylabel('Max Temp')\n",
    "print(f\"The r-squared is: {f1arvalue**2}\")\n",
    "plt.show()"
   ]
  },
  {
   "cell_type": "markdown",
   "metadata": {},
   "source": [
    "####  Northern Hemisphere - Humidity (%) vs. Latitude Linear Regression"
   ]
  },
  {
   "cell_type": "code",
   "execution_count": null,
   "metadata": {},
   "outputs": [],
   "source": [
    "f2x_values = cityData_df.loc[cityData_df['Lat'] >= 0]['Lat']\n",
    "f2y_values = cityData_df.loc[cityData_df['Lat'] >= 0]['Humidity'].astype('float64')\n",
    "(f2slope, f2intercept, f2rvalue, f2pvalue, f2stderr) = linregress(f2x_values, f2y_values)\n",
    "f2regress_values = f2x_values * f2slope + f2intercept\n",
    "f2line_eq = \"y = \" + str(round(f2slope,2)) + \"x + \" + str(round(f2intercept,2))\n",
    "plt.scatter(f2x_values,f2y_values)\n",
    "plt.plot(f2x_values,f2regress_values,\"r-\")\n",
    "plt.annotate(f2line_eq,(0,10),fontsize=15,color=\"red\")\n",
    "plt.title(f'Northern Hemisphere Latitude vs. Humidity ({date.today().strftime(\"%m/%d/%Y\")})')\n",
    "plt.xlabel('Northern Hemisphere Latitude')\n",
    "plt.ylabel('Humidity')\n",
    "print(f\"The r-squared is: {f2rvalue**2}\")\n",
    "plt.show()"
   ]
  },
  {
   "cell_type": "markdown",
   "metadata": {},
   "source": [
    "####  Southern Hemisphere - Humidity (%) vs. Latitude Linear Regression"
   ]
  },
  {
   "cell_type": "code",
   "execution_count": null,
   "metadata": {},
   "outputs": [],
   "source": [
    "f2ax_values = cityData_df.loc[cityData_df['Lat'] < 0]['Lat']\n",
    "f2ay_values = cityData_df.loc[cityData_df['Lat'] < 0]['Humidity'].astype('float64')\n",
    "(f2aslope, f2aintercept, f2arvalue, f2apvalue, f2astderr) = linregress(f2ax_values, f2ay_values)\n",
    "f2aregress_values = f2ax_values * f2aslope + f2aintercept\n",
    "f2aline_eq = \"y = \" + str(round(f2aslope,2)) + \"x + \" + str(round(f2aintercept,2))\n",
    "plt.scatter(f2ax_values,f2ay_values)\n",
    "plt.plot(f2ax_values,f2aregress_values,\"r-\")\n",
    "plt.annotate(f2aline_eq,(-50,10),fontsize=15,color=\"red\")\n",
    "plt.title(f'Southern Hemisphere Latitude vs. Humidity ({date.today().strftime(\"%m/%d/%Y\")})')\n",
    "plt.xlabel('Southern Hemisphere Latitude')\n",
    "plt.ylabel('Humidity')\n",
    "print(f\"The r-squared is: {f2arvalue**2}\")\n",
    "plt.show()"
   ]
  },
  {
   "cell_type": "markdown",
   "metadata": {},
   "source": [
    "####  Northern Hemisphere - Cloudiness (%) vs. Latitude Linear Regression"
   ]
  },
  {
   "cell_type": "code",
   "execution_count": null,
   "metadata": {},
   "outputs": [],
   "source": [
    "f3x_values = cityData_df.loc[cityData_df['Lat'] >= 0]['Lat']\n",
    "f3y_values = cityData_df.loc[cityData_df['Lat'] >= 0]['Cloudiness'].astype('float64')\n",
    "(f3slope, f3intercept, f3rvalue, f3pvalue, f3stderr) = linregress(f3x_values, f3y_values)\n",
    "f3regress_values = f3x_values * f3slope + f3intercept\n",
    "f3line_eq = \"y = \" + str(round(f3slope,2)) + \"x + \" + str(round(f3intercept,2))\n",
    "plt.scatter(f3x_values,f3y_values)\n",
    "plt.plot(f3x_values,f3regress_values,\"r-\")\n",
    "plt.annotate(f3line_eq,(0,10),fontsize=15,color=\"red\")\n",
    "plt.title(f'Northern Hemisphere Latitude vs. Cloudiness ({date.today().strftime(\"%m/%d/%Y\")})')\n",
    "plt.xlabel('Northern Hemisphere Latitude')\n",
    "plt.ylabel('Cloudiness')\n",
    "print(f\"The r-squared is: {f3rvalue**2}\")\n",
    "plt.show()"
   ]
  },
  {
   "cell_type": "markdown",
   "metadata": {},
   "source": [
    "####  Southern Hemisphere - Cloudiness (%) vs. Latitude Linear Regression"
   ]
  },
  {
   "cell_type": "code",
   "execution_count": null,
   "metadata": {},
   "outputs": [],
   "source": [
    "f3ax_values = cityData_df.loc[cityData_df['Lat'] < 0]['Lat']\n",
    "f3ay_values = cityData_df.loc[cityData_df['Lat'] < 0]['Cloudiness'].astype('float64')\n",
    "(f3aslope, f3aintercept, f3arvalue, f3apvalue, f3astderr) = linregress(f3ax_values, f3ay_values)\n",
    "f3aregress_values = f3ax_values * f3aslope + f3aintercept\n",
    "f3aline_eq = \"y = \" + str(round(f3aslope,2)) + \"x + \" + str(round(f3aintercept,2))\n",
    "plt.scatter(f3ax_values,f3ay_values)\n",
    "plt.plot(f3ax_values,f3aregress_values,\"r-\")\n",
    "plt.annotate(f3aline_eq,(-55,25),fontsize=15,color=\"red\")\n",
    "plt.title(f'Southern Hemisphere Latitude vs. Cloudiness ({date.today().strftime(\"%m/%d/%Y\")})')\n",
    "plt.xlabel('Southern Hemisphere Latitude')\n",
    "plt.ylabel('Cloudiness')\n",
    "print(f\"The r-squared is: {f3arvalue**2}\")\n",
    "plt.show()"
   ]
  },
  {
   "cell_type": "markdown",
   "metadata": {},
   "source": [
    "####  Northern Hemisphere - Wind Speed (mph) vs. Latitude Linear Regression"
   ]
  },
  {
   "cell_type": "code",
   "execution_count": null,
   "metadata": {},
   "outputs": [],
   "source": [
    "f4x_values = cityData_df.loc[cityData_df['Lat'] >= 0]['Lat']\n",
    "f4y_values = cityData_df.loc[cityData_df['Lat'] >= 0]['Wind Speed']\n",
    "(f4slope, f4intercept, f4rvalue, f4pvalue, f4stderr) = linregress(f4x_values, f4y_values)\n",
    "f4regress_values = f4x_values * f4slope + f4intercept\n",
    "f4line_eq = \"y = \" + str(round(f4slope,2)) + \"x + \" + str(round(f4intercept,2))\n",
    "plt.scatter(f4x_values,f4y_values)\n",
    "plt.plot(f4x_values,f4regress_values,\"r-\")\n",
    "plt.annotate(f4line_eq,(0,10),fontsize=15,color=\"red\")\n",
    "plt.title(f'Northern Hemisphere Latitude vs. Wind Speed ({date.today().strftime(\"%m/%d/%Y\")})')\n",
    "plt.xlabel('Northern Hemisphere Latitude')\n",
    "plt.ylabel('Wind Speed')\n",
    "print(f\"The r-squared is: {f4rvalue**2}\")\n",
    "plt.show()"
   ]
  },
  {
   "cell_type": "markdown",
   "metadata": {},
   "source": [
    "####  Southern Hemisphere - Wind Speed (mph) vs. Latitude Linear Regression"
   ]
  },
  {
   "cell_type": "code",
   "execution_count": null,
   "metadata": {},
   "outputs": [],
   "source": [
    "f4ax_values = cityData_df.loc[cityData_df['Lat'] < 0]['Lat']\n",
    "f4ay_values = cityData_df.loc[cityData_df['Lat'] < 0]['Wind Speed']\n",
    "(f4aslope, f4aintercept, f4arvalue, f4apvalue, f4astderr) = linregress(f4ax_values, f4ay_values)\n",
    "f4aregress_values = f4ax_values * f4aslope + f4aintercept\n",
    "f4aline_eq = \"y = \" + str(round(f4aslope,2)) + \"x + \" + str(round(f4aintercept,2))\n",
    "plt.scatter(f4ax_values,f4ay_values)\n",
    "plt.plot(f4ax_values,f4aregress_values,\"r-\")\n",
    "plt.annotate(f4aline_eq,(-50,11),fontsize=15,color=\"red\")\n",
    "plt.title(f'Southern Hemisphere Latitude vs. Wind Speed ({date.today().strftime(\"%m/%d/%Y\")})')\n",
    "plt.xlabel('Southern Hemisphere Latitude')\n",
    "plt.ylabel('Wind Speed')\n",
    "print(f\"The r-squared is: {f4arvalue**2}\")\n",
    "plt.show()"
   ]
  }
 ],
 "metadata": {
  "anaconda-cloud": {},
  "kernel_info": {
   "name": "python3"
  },
  "kernelspec": {
   "display_name": "Python 3",
   "language": "python",
   "name": "python3"
  },
  "language_info": {
   "codemirror_mode": {
    "name": "ipython",
    "version": 3
   },
   "file_extension": ".py",
   "mimetype": "text/x-python",
   "name": "python",
   "nbconvert_exporter": "python",
   "pygments_lexer": "ipython3",
   "version": "3.8.8"
  },
  "latex_envs": {
   "LaTeX_envs_menu_present": true,
   "autoclose": false,
   "autocomplete": true,
   "bibliofile": "biblio.bib",
   "cite_by": "apalike",
   "current_citInitial": 1,
   "eqLabelWithNumbers": true,
   "eqNumInitial": 1,
   "hotkeys": {
    "equation": "Ctrl-E",
    "itemize": "Ctrl-I"
   },
   "labels_anchors": false,
   "latex_user_defs": false,
   "report_style_numbering": false,
   "user_envs_cfg": false
  },
  "nteract": {
   "version": "0.12.3"
  }
 },
 "nbformat": 4,
 "nbformat_minor": 2
}
